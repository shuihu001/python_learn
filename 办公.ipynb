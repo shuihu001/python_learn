{
 "cells": [
  {
   "cell_type": "markdown",
   "metadata": {},
   "source": [
    "# 生成EXCEL"
   ]
  },
  {
   "cell_type": "code",
   "execution_count": 2,
   "metadata": {},
   "outputs": [],
   "source": [
    "#有序字典\n",
    "from collections import OrderedDict\n",
    "from pyexcel_xls import save_data\n",
    "\n",
    "\n",
    "def makeExce(path,data):\n",
    "    #有序字典\n",
    "    dic = OrderedDict()\n",
    "    for sheetName,sheetValue in data.items():\n",
    "        d = {}\n",
    "        d[sheetName] = sheetValue\n",
    "        #此格式的有序字典，sheetName为子表名，sheetValue为表中的数据\n",
    "        dic.update(d)\n",
    "    #保存\n",
    "    save_data(path,dic)\n",
    "\n",
    "\n",
    "path = r\"D:\\PYTHON学习\\make.xls\"\n",
    "#只能写xls格式的excel文件\n",
    "makeExce(path,{\"表1\":[[1,2,3],[4,5,6]],\"表2\":[[11,22,33],[44,55,66]]})"
   ]
  },
  {
   "cell_type": "code",
   "execution_count": null,
   "metadata": {},
   "outputs": [],
   "source": []
  }
 ],
 "metadata": {
  "kernelspec": {
   "display_name": "Python 3",
   "language": "python",
   "name": "python3"
  },
  "language_info": {
   "codemirror_mode": {
    "name": "ipython",
    "version": 3
   },
   "file_extension": ".py",
   "mimetype": "text/x-python",
   "name": "python",
   "nbconvert_exporter": "python",
   "pygments_lexer": "ipython3",
   "version": "3.7.0"
  }
 },
 "nbformat": 4,
 "nbformat_minor": 2
}
